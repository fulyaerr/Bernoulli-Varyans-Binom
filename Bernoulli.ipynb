{
  "nbformat": 4,
  "nbformat_minor": 0,
  "metadata": {
    "colab": {
      "name": "Untitled5.ipynb",
      "version": "0.3.2",
      "provenance": [],
      "include_colab_link": true
    },
    "kernelspec": {
      "name": "python3",
      "display_name": "Python 3"
    }
  },
  "cells": [
    {
      "cell_type": "markdown",
      "metadata": {
        "id": "view-in-github",
        "colab_type": "text"
      },
      "source": [
        "<a href=\"https://colab.research.google.com/github/fulyaerr/Bernoulli-Varyans-Binom/blob/master/Bernoulli.ipynb\" target=\"_parent\"><img src=\"https://colab.research.google.com/assets/colab-badge.svg\" alt=\"Open In Colab\"/></a>"
      ]
    },
    {
      "cell_type": "markdown",
      "metadata": {
        "id": "itYl76YCZnNQ",
        "colab_type": "text"
      },
      "source": [
        "**BERNOULLİ DAĞILIMI**\n",
        "\n",
        "Aynı koşullar altında kesikli bir rassal denemenin sonuçları olumlu-olumsuz, başarılıbaşarısız, geçti-kaldı şeklinde birbiriyle bağdaşmayan ve bütünün kapsayan iki sonuçlu\n",
        "olaylarda, gözlemlerde ya da deneylerde “BERNOULLİ DAĞILIMI” kullanılır.\n",
        "Öğrencinin İstatistik dersinden geçme olasılığı p ise, İstatistik dersinden kalma olasılığı\n",
        "(1-p) olacaktır. X rassal değişkeninde öğrenci dersi geçerse x = 1 ve kalırsa x = 0 olarak\n",
        "tanımlansın. Bu durumda X rassal değişkeninin olasılık fonksiyonu şöyledir:\n",
        "\n",
        "P ( X = x ) = px  (1 – p)1-x  , x = 0, 1 şeklinde gösterilir ve Bernoulli Olasılık Dağılımı denir.\n",
        "\n",
        "\n",
        "**a. Bernoulli Dağılımının Aritmetik Ortalaması ve Varyansı**\n",
        "\n",
        "  Bernoulli rassal değişkeninin aritmetik ortalaması: \n",
        "\n",
        "µx = E (x) = p\n",
        "\n",
        "  Bernoulli rassal değişkeninin varyansı: \n",
        "\n",
        "\n",
        "Var(x)  = E [ (X - µx)\n",
        "2\n",
        "] = p (1 – p)\n",
        "\n"
      ]
    },
    {
      "cell_type": "markdown",
      "metadata": {
        "id": "FeiZ0oMKe-Ow",
        "colab_type": "text"
      },
      "source": [
        "**Bernoulli Dağılımını örnekle açıklayacak olursak;**\n",
        "\n",
        "Bir öğrenci İstatistik dersinden geçme olasılığının 0.7 olduğuna\n",
        "inanmaktadır. Olasılık dağılımının fonksiyonunu yazınız? Ortalamasını ve varyansını\n",
        "bulunuz?\n",
        "\n",
        "Öğrenci dersten geçerse X rassal değişkeni x = 1 ve kalırsa x = 0 değerini alırsa, X\n",
        "rassal değişkeninin olasılık dağılımı şöyle yazılabilir:\n",
        "\n",
        "P (x=1) = 0.7 ve P (x=0) = 0.3 \n",
        "\n",
        "Var(x) = 0.7 * 0.3 = 0.21\n"
      ]
    },
    {
      "cell_type": "markdown",
      "metadata": {
        "id": "pHtGrEMT286q",
        "colab_type": "text"
      },
      "source": [
        "**BİNOM DAĞILIMI**\n",
        "\n",
        "İki sonuçlu rassal deneme aynı koşullar altında n kere tekrarlanırsa “BİNOM\n",
        "DAĞILIMI” adı verilen dağılım elde edilir. Bernoulli dağılımının özel bir şeklidir.\n",
        "Öncelikle, n tane deneme olduğu için n tane iki olasılıklı sonuç olacaktır. İncelenen olay\n",
        "başarı ya da başarısızlık ise n tane denemede x tane başarılı ve (n-x) tane başarısız\n",
        "sonuç olacaktır ve denemeler birbirinden bağımsız olduklarından sonuçların herhangi\n",
        "bir dizilimin olasılığı, tekil sonuçların olasılıklarının çarpımına eşittir ve aşağıdaki\n",
        "gibidir.\n",
        "\n",
        "P (x, n-x) = p.p.p………p.(1-p).(1-p)…….(1-p) = p ** x (1-p) ** n-x\n",
        "\n",
        "Her bir denemenin başarılı olma olasılığı p ve başarısız olma olasılığı (1-p) dir.\n",
        "n tane rassal denemede x tane başarının (n-x) tane başarısızlıkla birlikte çok farklı\n",
        "dizilişlerde gerçekleşebilir yukarıda sadece bir tanesi dikkate alındı.\n",
        "Diziliş sırası önemli değilse n rassal denemede x tane başarı içeren dizilişlerin sayısı:\n",
        "\n",
        "\n",
        "**Binom Dağılımının Aritmetik Ortalaması, Varyansı ve Momentleri**\n",
        "\n",
        "**Aritmetik ortalaması**: µx = E (X) = n.p\n",
        "\n",
        "**Varyansı**:\n",
        " = E [ (X - µx)\n",
        "2\n",
        "] = n.p. (1 – p)\n",
        "\n",
        "**Momentleri**:\n",
        "\n",
        "µ1 = 0\n",
        "\n",
        "µ2 = var(x)\n",
        "\n",
        "µ3 = n.p.(1-p)[(1-p) – p]\n",
        "\n",
        "µ4 = n.p.(1-p)[(1-6 p(1-p)+3n.p(1-p)]"
      ]
    },
    {
      "cell_type": "markdown",
      "metadata": {
        "id": "z7_GvOaJ4urI",
        "colab_type": "text"
      },
      "source": [
        "Binom Dağılımını örnekleyecek olursam;\n",
        "\n",
        " Hilesiz bir paranın 12 atılışında 5 yazı, 7 tura gelme olasılığını bulunuz?\n",
        " \n",
        " Binom formülünde x=5,n=12, p=0.5 konursa ;"
      ]
    },
    {
      "cell_type": "code",
      "metadata": {
        "id": "ctPVqqGj5KJh",
        "colab_type": "code",
        "colab": {
          "base_uri": "https://localhost:8080/",
          "height": 34
        },
        "outputId": "9f3166b9-fc03-4f90-d538-a3b94371754d"
      },
      "source": [
        "from math import factorial\n",
        "\n",
        "(factorial(12) / (factorial(5) * factorial(7))) * ((1/2) ** 5) * ((1 - (1/2)) ** (12-5))"
      ],
      "execution_count": 11,
      "outputs": [
        {
          "output_type": "execute_result",
          "data": {
            "text/plain": [
              "0.193359375"
            ]
          },
          "metadata": {
            "tags": []
          },
          "execution_count": 11
        }
      ]
    }
  ]
}